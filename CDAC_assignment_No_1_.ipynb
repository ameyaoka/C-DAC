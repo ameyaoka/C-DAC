{
  "nbformat": 4,
  "nbformat_minor": 0,
  "metadata": {
    "colab": {
      "provenance": []
    },
    "kernelspec": {
      "name": "python3",
      "display_name": "Python 3"
    },
    "language_info": {
      "name": "python"
    }
  },
  "cells": [
    {
      "cell_type": "markdown",
      "source": [
        "# C-DAC  (DBDA)\n",
        "\n",
        "## Assignment -1\n",
        "\n"
      ],
      "metadata": {
        "id": "wifboqZQsbRg"
      }
    },
    {
      "cell_type": "markdown",
      "source": [
        "1. The code performs division operations and prints the results. It demonstrates that both integer and floating-point divisions return accurate results. For example, ’10/2′ results in ‘5.0’, and ‘-10/2’ results in ‘-5.0’."
      ],
      "metadata": {
        "id": "GpgDOmgkskKv"
      }
    },
    {
      "cell_type": "code",
      "source": [
        "# In Python, integer division is performed using the \"//\" operator\n",
        "int_positive = 10 // 2\n",
        "int_negative = -10 // 2\n",
        "\n",
        "# Floating-point division\n",
        "float_positive = 10 / 2\n",
        "float_negative = -10 / 2\n",
        "\n",
        "# In Python, floating -point division is performed using the \"//\" operator\n",
        "print(\"Integer division:\")\n",
        "print(\"10 //2 =\", int_positive)\n",
        "print(\"-10 // 2 =\", int_negative)\n",
        "\n",
        "print(\"\\nFloating-point division:\")\n",
        "print(\"10 / 2 =\", float_positive)\n",
        "print(\"-10 / 2 =\", float_negative)\n"
      ],
      "metadata": {
        "colab": {
          "base_uri": "https://localhost:8080/"
        },
        "id": "KBjXQGvasoz7",
        "outputId": "b5eeeb14-474d-4cc0-a90b-b0f440956937"
      },
      "execution_count": 3,
      "outputs": [
        {
          "output_type": "stream",
          "name": "stdout",
          "text": [
            "Integer division:\n",
            "10 /2 = 5\n",
            "-10 / 2 = -5\n",
            "\n",
            "Floating-point division:\n",
            "10 / 2 = 5.0\n",
            "-10 / 2 = -5.0\n"
          ]
        }
      ]
    },
    {
      "cell_type": "markdown",
      "source": [
        "2. The code demonstrates integer (floor) division operations using the ‘//’ operator. It provides results as follows: ’10//3′ equals ‘3’, ‘-5//2’ equals ‘-3’, ‘5.0//2′ equals ‘2.0’, and ‘-5.0//2’ equals ‘-3.0’. Integer division returns the largest integer less than or equal to the division result"
      ],
      "metadata": {
        "id": "7WZJT7H7s1jh"
      }
    },
    {
      "cell_type": "code",
      "source": [
        "# Integer (floor) division\n",
        "a = 10 // 3\n",
        "b = -5 // 2\n",
        "c= 5.0 // 2\n",
        "d  = -5.0 // 2\n",
        "\n",
        "# Print\n",
        "print(\"Integer (floor) division:\")\n",
        "print(\"10 // 3 =\", a)\n",
        "print(\"-5 // 2 =\", b)\n",
        "print(\"5.0 // 2 =\", c)\n",
        "print(\"-5.0 // 2 =\", d)\n"
      ],
      "metadata": {
        "colab": {
          "base_uri": "https://localhost:8080/"
        },
        "id": "DzrWyxe1s37y",
        "outputId": "709de12b-3306-4904-ba6e-f3dc8a444009"
      },
      "execution_count": 4,
      "outputs": [
        {
          "output_type": "stream",
          "name": "stdout",
          "text": [
            "Integer (floor) division:\n",
            "10 // 3 = 3\n",
            "-5 // 2 = -3\n",
            "5.0 // 2 = 2.0\n",
            "-5.0 // 2 = -3.0\n"
          ]
        }
      ]
    },
    {
      "cell_type": "markdown",
      "source": [
        "3. The code performs basic arithmetic operations with the values of ‘a’ and ‘b’. It adds (‘+’), subtracts (‘-‘), multiplies (‘’), computes the remainder (‘%’), and raises a to the power of ‘b (*)’. The results of these operations are printed."
      ],
      "metadata": {
        "id": "vAuTA-cAs-_c"
      }
    },
    {
      "cell_type": "code",
      "source": [
        "# initialize values\n",
        "a = 10\n",
        "b = 3\n",
        "\n",
        "# Arithmetic operations\n",
        "addition = a + b\n",
        "subtraction = a - b\n",
        "multiplication = a * b\n",
        "remainder = a % b\n",
        "power = a ** b\n",
        "\n",
        "# Print\n",
        "print(\"Addition (a + b):\", addition)\n",
        "print(\"Subtraction (a - b):\", subtraction)\n",
        "print(\"Multiplication (a * b):\", multiplication)\n",
        "print(\"Remainder (a % b):\", remainder)\n",
        "print(\"Exponentiation (a ** b):\", power)\n"
      ],
      "metadata": {
        "colab": {
          "base_uri": "https://localhost:8080/"
        },
        "id": "XLoDeohftB2C",
        "outputId": "78f00383-4480-4692-a581-a7448c31315c"
      },
      "execution_count": 5,
      "outputs": [
        {
          "output_type": "stream",
          "name": "stdout",
          "text": [
            "Addition (a + b): 13\n",
            "Subtraction (a - b): 7\n",
            "Multiplication (a * b): 30\n",
            "Remainder (a % b): 1\n",
            "Exponentiation (a ** b): 1000\n"
          ]
        }
      ]
    },
    {
      "cell_type": "markdown",
      "source": [
        "\n",
        "\n",
        "4. The code compares the values of ‘a’ and ‘b’ using various comparison operators and prints the results. It checks if ‘a’ is greater than, less than, equal to, not equal to, greater than, or equal to, and less than or equal to ‘b’.\n"
      ],
      "metadata": {
        "id": "viQrNEo5tPh1"
      }
    },
    {
      "cell_type": "code",
      "source": [
        "# initializing values\n",
        "a = 10\n",
        "b = 3\n",
        "\n",
        "# Comparison operations\n",
        "greater_than = a > b\n",
        "less_than = a < b\n",
        "equal_to = a == b\n",
        "not_equal_to = a != b\n",
        "greater_than_or_equal_to = a >= b\n",
        "less_than_or_equal_to = a <= b\n",
        "\n",
        "# Print results\n",
        "print(\"Output\")\n",
        "print(\"Is a greater than b?\", greater_than)\n",
        "print(\"Is a less than b?\", less_than)\n",
        "print(\"Is a equal to b?\", equal_to)\n",
        "print(\"Is a not equal to b?\", not_equal_to)\n",
        "print(\"Is a greater than or equal to b?\", greater_than_or_equal_to)\n",
        "print(\"Is a less than or equal to b?\", less_than_or_equal_to)\n"
      ],
      "metadata": {
        "colab": {
          "base_uri": "https://localhost:8080/"
        },
        "id": "ngiSbZ_DtZ_z",
        "outputId": "cb0ba8a9-c203-4e9c-dbf4-36199dcb8273"
      },
      "execution_count": 6,
      "outputs": [
        {
          "output_type": "stream",
          "name": "stdout",
          "text": [
            "Output\n",
            "Is a greater than b? True\n",
            "Is a less than b? False\n",
            "Is a equal to b? False\n",
            "Is a not equal to b? True\n",
            "Is a greater than or equal to b? True\n",
            "Is a less than or equal to b? False\n"
          ]
        }
      ]
    },
    {
      "cell_type": "markdown",
      "source": [
        "5. The code performs logical operations with Boolean values. It checks if both ‘a’ and ‘b’ are true (‘and’), if at least one of them is true (‘or’), and negates the value of ‘a’ using ‘not’. The results are printed accordingly."
      ],
      "metadata": {
        "id": "E055HRrhtiQ8"
      }
    },
    {
      "cell_type": "code",
      "source": [
        "# set boolean values\n",
        "a = True\n",
        "b = False\n",
        "\n",
        "# Logical operations\n",
        "both_true = a and b\n",
        "at_least_one_true = a or b\n",
        "negate_a = not a\n",
        "\n",
        "# Print\n",
        "print(\"Output\")\n",
        "print(\"Are both a and b true?\", both_true)\n",
        "print(\"Is at least one of a or b true?\", at_least_one_true)\n",
        "print(\"Negation of a:\", negate_a)\n"
      ],
      "metadata": {
        "colab": {
          "base_uri": "https://localhost:8080/"
        },
        "id": "aWspDr63tkX9",
        "outputId": "f892c6d4-cd7f-4d7d-8126-642fddd76d2f"
      },
      "execution_count": 8,
      "outputs": [
        {
          "output_type": "stream",
          "name": "stdout",
          "text": [
            "Output\n",
            "Are both a and b true? False\n",
            "Is at least one of a or b true? True\n",
            "Negation of a: False\n"
          ]
        }
      ]
    },
    {
      "cell_type": "markdown",
      "source": [
        "6. The code demonstrates various bitwise operations with the values of ‘a’ and ‘b’. It performs bitwise AND (&), OR (|), NOT (~), XOR (^), right shift (>>), and left shift (<<) operations and prints the results. These operations manipulate the binary representations of the numbers."
      ],
      "metadata": {
        "id": "Ssd1BQWmtqpI"
      }
    },
    {
      "cell_type": "code",
      "source": [
        "# initialization of 'a' and 'b' in binary\n",
        "#  12\n",
        "a = 0b1100\n",
        "\n",
        "#10\n",
        "b = 0b1010\n",
        "\n",
        "# Bitwise operations\n",
        "bitwise_and = a & b\n",
        "bitwise_or = a | b\n",
        "bitwise_not_a = ~a\n",
        "bitwise_xor = a ^ b\n",
        "right_shift = a >> 2\n",
        "left_shift = a << 2\n",
        "\n",
        "# Print\n",
        "print(\"Bitwise AND (a & b):\", bin(bitwise_and))\n",
        "print(\"Bitwise OR (a | b):\", bin(bitwise_or))\n",
        "print(\"Bitwise NOT (~a):\", bin(bitwise_not_a))\n",
        "print(\"Bitwise XOR (a ^ b):\", bin(bitwise_xor))\n",
        "print(\"Right Shift (a >> 2):\", bin(right_shift))\n",
        "print(\"Left Shift (a << 2):\", bin(left_shift))\n"
      ],
      "metadata": {
        "colab": {
          "base_uri": "https://localhost:8080/"
        },
        "id": "p6w6pnvrtz5o",
        "outputId": "7be51faf-d07a-401f-bbea-990cb69e549c"
      },
      "execution_count": 9,
      "outputs": [
        {
          "output_type": "stream",
          "name": "stdout",
          "text": [
            "Bitwise AND (a & b): 0b1000\n",
            "Bitwise OR (a | b): 0b1110\n",
            "Bitwise NOT (~a): -0b1101\n",
            "Bitwise XOR (a ^ b): 0b110\n",
            "Right Shift (a >> 2): 0b11\n",
            "Left Shift (a << 2): 0b110000\n"
          ]
        }
      ]
    },
    {
      "cell_type": "markdown",
      "source": [
        "7. The code starts with ‘a’ and ‘b’ both having the value 10. It then performs a series of operations: addition, subtraction, multiplication, and a left shift operation on ‘b’. The results of each operation are printed, showing the impact of these operations on the value of ‘b’."
      ],
      "metadata": {
        "id": "UKl1qsBXtzwa"
      }
    },
    {
      "cell_type": "code",
      "source": [
        "# Initial values of 'a' and 'b'\n",
        "a = 10\n",
        "b = 10\n",
        "\n",
        "# Addition\n",
        "b += a\n",
        "print(\"After addition, value of b is \", b)\n",
        "\n",
        "# Subtraction\n",
        "b -= a\n",
        "print(\"After subtraction, value of b is \", b)\n",
        "\n",
        "# Multiplication\n",
        "b *= a\n",
        "print(\"After multiplication,value of b is \", b)\n",
        "\n",
        "# Left shift\n",
        "b <<= 1\n",
        "print(\"After left shift , value of b is \", b)\n"
      ],
      "metadata": {
        "colab": {
          "base_uri": "https://localhost:8080/"
        },
        "id": "pV02DYVTuBVJ",
        "outputId": "70254944-50c7-438c-d049-b92d9f9b9a48"
      },
      "execution_count": 10,
      "outputs": [
        {
          "output_type": "stream",
          "name": "stdout",
          "text": [
            "After addition, value of b is  20\n",
            "After subtraction, value of b is  10\n",
            "After multiplication,value of b is  100\n",
            "After left shift , value of b is  200\n"
          ]
        }
      ]
    },
    {
      "cell_type": "code",
      "source": [],
      "metadata": {
        "id": "HgTHa1DpuHhL"
      },
      "execution_count": null,
      "outputs": []
    }
  ]
}