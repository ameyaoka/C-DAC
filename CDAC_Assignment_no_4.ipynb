{
  "nbformat": 4,
  "nbformat_minor": 0,
  "metadata": {
    "colab": {
      "provenance": []
    },
    "kernelspec": {
      "name": "python3",
      "display_name": "Python 3"
    },
    "language_info": {
      "name": "python"
    }
  },
  "cells": [
    {
      "cell_type": "markdown",
      "source": [
        "# CDAC -DBDA\n",
        "\n",
        "## assignment no 4\n"
      ],
      "metadata": {
        "id": "xrRCEVSnygcp"
      }
    },
    {
      "cell_type": "markdown",
      "source": [
        "### section A"
      ],
      "metadata": {
        "id": "J7miRnir1I6v"
      }
    },
    {
      "cell_type": "markdown",
      "source": [
        "1. Python program to print all Prime numbers in an Interval."
      ],
      "metadata": {
        "id": "ZbkruH0AypOl"
      }
    },
    {
      "cell_type": "code",
      "source": [
        "def is_prime(num):\n",
        "\n",
        "  if num <= 1:\n",
        "    return False\n",
        "  for i in range(2, int(num**0.5) + 1):\n",
        "    if num % i == 0:\n",
        "      return False\n",
        "  return True\n",
        "\n",
        "lower_bound = int(input(\"Enter the lower bound: \"))\n",
        "upper_bound = int(input(\"Enter the upper bound: \"))\n",
        "\n",
        "print(\"Prime numbers between\", lower_bound, \"and\", upper_bound, \"are:\")\n",
        "\n",
        "# Iterate through the numbers in the interval and check for primality\n",
        "for num in range(lower_bound, upper_bound + 1):\n",
        "  if is_prime(num):\n",
        "    print(num)\n"
      ],
      "metadata": {
        "colab": {
          "base_uri": "https://localhost:8080/"
        },
        "id": "GPy5JikhyqeF",
        "outputId": "5cb59a3c-c652-40cb-a4a6-e6a039cae1ca"
      },
      "execution_count": null,
      "outputs": [
        {
          "output_type": "stream",
          "name": "stdout",
          "text": [
            "Enter the lower bound: 5\n",
            "Enter the upper bound: 30\n",
            "Prime numbers between 5 and 30 are:\n",
            "5\n",
            "7\n",
            "11\n",
            "13\n",
            "17\n",
            "19\n",
            "23\n",
            "29\n"
          ]
        }
      ]
    },
    {
      "cell_type": "markdown",
      "source": [
        "2. Python program to check whether a number is Prime or not\n"
      ],
      "metadata": {
        "id": "c2oSixhWywmY"
      }
    },
    {
      "cell_type": "code",
      "source": [
        "def is_prime(num):\n",
        "    if num <= 1:\n",
        "        return False\n",
        "    for i in range(2, int(num**0.5) + 1):\n",
        "        if num % i == 0:\n",
        "            return False\n",
        "    return True\n",
        "\n",
        "# Input from user\n",
        "num = int(input(\"Enter a number: \"))\n",
        "\n",
        "if is_prime(num):\n",
        "    print(num, \"is a prime number\")\n",
        "else:\n",
        "    print(num, \"is not a prime number\")\n"
      ],
      "metadata": {
        "colab": {
          "base_uri": "https://localhost:8080/"
        },
        "id": "X1X0AtfEy3JH",
        "outputId": "4effbea9-7a98-458c-a7fd-1b1d1fc176f3"
      },
      "execution_count": null,
      "outputs": [
        {
          "output_type": "stream",
          "name": "stdout",
          "text": [
            "Enter a number: 3\n",
            "3 is a prime number\n"
          ]
        }
      ]
    },
    {
      "cell_type": "markdown",
      "source": [
        "3. Python Program for n-th Fibonacci number"
      ],
      "metadata": {
        "id": "QeVKwKXAzU5r"
      }
    },
    {
      "cell_type": "code",
      "source": [
        "\n",
        "def fibonacci(n):\n",
        "    if n <= 1:\n",
        "        return n\n",
        "    return fibonacci(n-1) + fibonacci(n-2)\n",
        "\n",
        "# Input from user\n",
        "n = int(input(\"Enter the number: \"))\n",
        "\n",
        "print(fibonacci(n))\n"
      ],
      "metadata": {
        "colab": {
          "base_uri": "https://localhost:8080/"
        },
        "id": "67vYVXuqzgEu",
        "outputId": "e6aa6cd2-8974-47dc-bd6e-ab03796d5018"
      },
      "execution_count": null,
      "outputs": [
        {
          "output_type": "stream",
          "name": "stdout",
          "text": [
            "Enter the number: 8\n",
            "21\n"
          ]
        }
      ]
    },
    {
      "cell_type": "markdown",
      "source": [
        "4. Python Program for How to check if a given number is Fibonacci number?"
      ],
      "metadata": {
        "id": "EH5VDT0azgzL"
      }
    },
    {
      "cell_type": "code",
      "source": [
        "import math\n",
        "\n",
        "def is_perfect_square(num):\n",
        "    return int(math.sqrt(num))**2 == num\n",
        "\n",
        "def is_fibonacci(num):\n",
        "    return is_perfect_square(5*num*num + 4) or is_perfect_square(5*num*num - 4)\n",
        "\n",
        "# Input from user\n",
        "num = int(input(\"Enter a number: \"))\n",
        "\n",
        "if is_fibonacci(num):\n",
        "    print(num, \"is a Fibonacci number\")\n",
        "else:\n",
        "    print(num, \"is not a Fibonacci number\")\n"
      ],
      "metadata": {
        "colab": {
          "base_uri": "https://localhost:8080/"
        },
        "id": "-K9lvY2zzl5M",
        "outputId": "fa967777-4de0-455a-8eb1-e996ad502464"
      },
      "execution_count": null,
      "outputs": [
        {
          "output_type": "stream",
          "name": "stdout",
          "text": [
            "Enter a number: 33\n",
            "33 is not a Fibonacci number\n"
          ]
        }
      ]
    },
    {
      "cell_type": "markdown",
      "source": [
        "5. Python Program for Sum of squares of first n natural numbers"
      ],
      "metadata": {
        "id": "e_Sn72-1zsEt"
      }
    },
    {
      "cell_type": "code",
      "source": [
        "def sum_of_squares(n):\n",
        "    return (n * (n + 1) * (2*n + 1)) // 6\n",
        "\n",
        "# Input from user\n",
        "n = int(input(\"Enter a number: \"))\n",
        "\n",
        "result = sum_of_squares(n)\n",
        "print(\"The sum of squares of the first\", n, \"natural numbers is:\", result)\n"
      ],
      "metadata": {
        "colab": {
          "base_uri": "https://localhost:8080/"
        },
        "id": "L5XslEAIzvRu",
        "outputId": "73d1f946-93dc-486f-af15-f75da58d0b2c"
      },
      "execution_count": null,
      "outputs": [
        {
          "output_type": "stream",
          "name": "stdout",
          "text": [
            "Enter a number: 33\n",
            "The sum of squares of the first 33 natural numbers is: 12529\n"
          ]
        }
      ]
    },
    {
      "cell_type": "markdown",
      "source": [
        "6. Python Program for cube sum of first n natural numbers"
      ],
      "metadata": {
        "id": "vvCYyahQzzeu"
      }
    },
    {
      "cell_type": "code",
      "source": [
        "def cube_sum(n):\n",
        "    return (n * (n + 1) * (2*n + 1)) // 6\n",
        "\n",
        "# Input from user\n",
        "n = int(input(\"Enter a number: \"))\n",
        "\n",
        "result = cube_sum(n)\n",
        "print(\"The cube sum of the first\", n, \"natural numbers is:\", result)\n"
      ],
      "metadata": {
        "colab": {
          "base_uri": "https://localhost:8080/"
        },
        "id": "epZ_2CPSz2jN",
        "outputId": "f7b08165-abd6-4454-8af5-69d21b894511"
      },
      "execution_count": null,
      "outputs": [
        {
          "output_type": "stream",
          "name": "stdout",
          "text": [
            "Enter a number: 44\n",
            "The cube sum of the first 44 natural numbers is: 29370\n"
          ]
        }
      ]
    },
    {
      "cell_type": "markdown",
      "source": [
        "### Section B"
      ],
      "metadata": {
        "id": "cjVJCHwNz9LR"
      }
    },
    {
      "cell_type": "markdown",
      "source": [
        "7. Python program convert Snake case to Pascal case"
      ],
      "metadata": {
        "id": "CwhEDe970Fvh"
      }
    },
    {
      "cell_type": "code",
      "source": [
        "def snake_to_pascal(s):\n",
        "    words = s.split(\"_\")\n",
        "    return \"\".join([word.capitalize() for word in words])\n",
        "\n",
        "# Input from user\n",
        "s = input(\"Enter a string in snake case: \")\n",
        "\n",
        "result = snake_to_pascal(s)\n",
        "print(\"The string in Pascal case is:\", result)\n"
      ],
      "metadata": {
        "colab": {
          "base_uri": "https://localhost:8080/"
        },
        "id": "bOc9bHpg0Hnv",
        "outputId": "68b4e8ff-8710-452d-99e9-3db9ad4d671b"
      },
      "execution_count": null,
      "outputs": [
        {
          "output_type": "stream",
          "name": "stdout",
          "text": [
            "Enter a string in snake case: 23\n",
            "The string in Pascal case is: 23\n"
          ]
        }
      ]
    },
    {
      "cell_type": "markdown",
      "source": [
        "8. Find length of a string in python"
      ],
      "metadata": {
        "id": "gNIXAAp70Mad"
      }
    },
    {
      "cell_type": "code",
      "source": [
        "# Example\n",
        "string = \"Hello, World!\"\n",
        "length = len(string)\n",
        "print(\"The length of the string is:\", length)\n"
      ],
      "metadata": {
        "colab": {
          "base_uri": "https://localhost:8080/"
        },
        "id": "6nZJ1M990Zg7",
        "outputId": "5035576a-e7d2-4652-acbd-f4fef832e243"
      },
      "execution_count": null,
      "outputs": [
        {
          "output_type": "stream",
          "name": "stdout",
          "text": [
            "The length of the string is: 13\n"
          ]
        }
      ]
    },
    {
      "cell_type": "markdown",
      "source": [
        "9. Python program to print even length words in a string\n",
        "\n",
        "\n"
      ],
      "metadata": {
        "id": "AeVaY8P20QwA"
      }
    },
    {
      "cell_type": "code",
      "source": [
        "\n",
        "\n",
        "def print_even_length_words(s):\n",
        "    words = s.split()\n",
        "    even_length_words = [word for word in words if len(word) % 2 == 0]\n",
        "    return even_length_words\n",
        "\n",
        "# Input from user\n",
        "string = input(\"Enter a string: \")\n",
        "\n",
        "result = print_even_length_words(string)\n",
        "print(\"Even length words in the string:\", result)\n"
      ],
      "metadata": {
        "colab": {
          "base_uri": "https://localhost:8080/"
        },
        "id": "fyaTH5Ag0gk4",
        "outputId": "3cc5db8f-2a2c-4293-d605-0d7245b69b70"
      },
      "execution_count": null,
      "outputs": [
        {
          "output_type": "stream",
          "name": "stdout",
          "text": [
            "Enter a string: ameya\n",
            "Even length words in the string: []\n"
          ]
        }
      ]
    },
    {
      "cell_type": "markdown",
      "source": [
        "10. Python program to replace duplicate Occurrence in String"
      ],
      "metadata": {
        "id": "cfBDVIu60XO8"
      }
    },
    {
      "cell_type": "code",
      "source": [
        "def replace_duplicates(s):\n",
        "    seen = set()\n",
        "    result = []\n",
        "    for char in s:\n",
        "        if char not in seen:\n",
        "            seen.add(char)\n",
        "            result.append(char)\n",
        "    return ''.join(result)\n",
        "\n",
        "# Input from user\n",
        "string = input(\"Enter a string: \")\n",
        "\n",
        "result = replace_duplicates(string)\n",
        "print(\"String with duplicate occurrences replaced:\", result)\n"
      ],
      "metadata": {
        "colab": {
          "base_uri": "https://localhost:8080/"
        },
        "id": "--cXNbhC0WVy",
        "outputId": "1bfc314d-112d-4ce9-d375-8af65c3c1261"
      },
      "execution_count": null,
      "outputs": [
        {
          "output_type": "stream",
          "name": "stdout",
          "text": [
            "Enter a string: ajdcd\n",
            "String with duplicate occurrences replaced: ajdc\n"
          ]
        }
      ]
    },
    {
      "cell_type": "markdown",
      "source": [
        "11. Find all duplicate characters in string"
      ],
      "metadata": {
        "id": "7TJsACuz01YU"
      }
    },
    {
      "cell_type": "code",
      "source": [
        "def find_duplicates(s):\n",
        "    duplicates = []\n",
        "    seen = set()\n",
        "    for char in s:\n",
        "        if char in seen:\n",
        "            if char not in duplicates:\n",
        "                duplicates.append(char)\n",
        "        else:\n",
        "            seen.add(char)\n",
        "    return duplicates\n",
        "\n",
        "# Input from user\n",
        "string = input(\"Enter a string: \")\n",
        "\n",
        "result = find_duplicates(string)\n",
        "print(\"Duplicate characters in the string:\", result)\n"
      ],
      "metadata": {
        "colab": {
          "base_uri": "https://localhost:8080/"
        },
        "id": "X14uel1i1BO2",
        "outputId": "7c30eaa8-7d83-4373-e313-eafeaa218289"
      },
      "execution_count": null,
      "outputs": [
        {
          "output_type": "stream",
          "name": "stdout",
          "text": [
            "Enter a string: fayuea\n",
            "Duplicate characters in the string: ['a']\n"
          ]
        }
      ]
    },
    {
      "cell_type": "code",
      "source": [],
      "metadata": {
        "id": "DYu0zaAi1Fb3"
      },
      "execution_count": null,
      "outputs": []
    }
  ]
}