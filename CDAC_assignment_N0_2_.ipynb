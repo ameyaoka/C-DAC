{
  "nbformat": 4,
  "nbformat_minor": 0,
  "metadata": {
    "colab": {
      "provenance": []
    },
    "kernelspec": {
      "name": "python3",
      "display_name": "Python 3"
    },
    "language_info": {
      "name": "python"
    }
  },
  "cells": [
    {
      "cell_type": "markdown",
      "source": [
        "# CDAC- DBDA\n",
        "## Assignment NO -2"
      ],
      "metadata": {
        "id": "pE8fQc5ruV08"
      }
    },
    {
      "cell_type": "markdown",
      "source": [
        "### For Lists:"
      ],
      "metadata": {
        "id": "-g1rvZBQudE6"
      }
    },
    {
      "cell_type": "markdown",
      "source": [
        "1. Write a program to find the second largest element in a list.\n",
        "\n",
        "\n"
      ],
      "metadata": {
        "id": "L874MxeVuhD7"
      }
    },
    {
      "cell_type": "markdown",
      "source": [
        "- Solution 1"
      ],
      "metadata": {
        "id": "RYPJQqvyvGMg"
      }
    },
    {
      "cell_type": "code",
      "source": [
        "def second_largest_element(nums):\n",
        "  if len(nums) < 2:\n",
        "    return None\n",
        "\n",
        "  sorted_nums = sorted(my_list, reverse=True)\n",
        "  return sorted_nums[1] if len(sorted_nums) > 1 else None\n",
        "\n",
        "# Example usage\n",
        "my_list = [10, 5, 20, 8, 15]\n",
        "\n",
        "second_largest_element = second_largest_element(my_list)\n",
        "print(second_largest_element)  # Output: 4"
      ],
      "metadata": {
        "colab": {
          "base_uri": "https://localhost:8080/"
        },
        "id": "6EGDyX5XuM4f",
        "outputId": "0ffb3feb-6250-46e9-e82f-db1cd2f6ae6e"
      },
      "execution_count": 2,
      "outputs": [
        {
          "output_type": "stream",
          "name": "stdout",
          "text": [
            "15\n"
          ]
        }
      ]
    },
    {
      "cell_type": "markdown",
      "source": [
        "- solution 2"
      ],
      "metadata": {
        "id": "jr_e8jicvKdP"
      }
    },
    {
      "cell_type": "code",
      "source": [
        "def second_largest_element(input):\n",
        "    if len(input) < 2:\n",
        "        return \"List should have at least two elements\"\n",
        "\n",
        "    largest = second_largest = float('-inf')\n",
        "\n",
        "    for num in input:\n",
        "        if num > largest:\n",
        "            second_largest = largest\n",
        "            largest = num\n",
        "        elif num > second_largest and num != largest:\n",
        "            second_largest = num\n",
        "\n",
        "    if second_largest == float('-inf'):\n",
        "        return \"There is no second largest element\"\n",
        "\n",
        "    return second_largest\n",
        "\n",
        "# Example list\n",
        "my_list = [10, 5, 20, 8, 15]\n",
        "result = second_largest_element(my_list)\n",
        "print(\"The second largest element in the list is:\", result)\n"
      ],
      "metadata": {
        "colab": {
          "base_uri": "https://localhost:8080/"
        },
        "id": "-FfAv4MiulQA",
        "outputId": "cb6b6f4c-3c00-494b-96fd-e0df0638f713"
      },
      "execution_count": 3,
      "outputs": [
        {
          "output_type": "stream",
          "name": "stdout",
          "text": [
            "The second largest element in the list is: 15\n"
          ]
        }
      ]
    },
    {
      "cell_type": "markdown",
      "source": [
        "2. Given a list of integers, write a Python program to find the cumulative sum of elements."
      ],
      "metadata": {
        "id": "TAKecdVIuvMM"
      }
    },
    {
      "cell_type": "code",
      "source": [
        "def cumulative_sum(numbers):\n",
        "    cumulative_sums = []\n",
        "    current_sum = 0\n",
        "\n",
        "    # Iterate through the elements of input list\n",
        "    for num in numbers:\n",
        "        # Add the current number to the current sum\n",
        "        current_sum += num\n",
        "        # Append the current sum to the list of cumulative sums\n",
        "        cumulative_sums.append(current_sum)\n",
        "\n",
        "    # Return the list of cumulative sums\n",
        "    return cumulative_sums\n",
        "\n",
        "# Example usage\n",
        "numbers = [1, 2, 3, 4, 5]\n",
        "result = cumulative_sum(numbers)\n",
        "print(\"Cumulative sum of elements in the list is\", result)\n"
      ],
      "metadata": {
        "colab": {
          "base_uri": "https://localhost:8080/"
        },
        "id": "zbfNWGYJu7_v",
        "outputId": "2f2847fc-cb8e-42df-8e5b-aaa70822b388"
      },
      "execution_count": 4,
      "outputs": [
        {
          "output_type": "stream",
          "name": "stdout",
          "text": [
            "Cumulative sum of elements in the list is [1, 3, 6, 10, 15]\n"
          ]
        }
      ]
    },
    {
      "cell_type": "markdown",
      "source": [
        "\n",
        "3. Write a program to remove all occurrences of a specified element from a list."
      ],
      "metadata": {
        "id": "Av4n1fQFvARj"
      }
    },
    {
      "cell_type": "code",
      "source": [
        "def remove_element(input_list, element):\n",
        "    result_list = [x for x in input_list if x != element]\n",
        "\n",
        "    return result_list\n",
        "\n",
        "# Example list\n",
        "my_list = [1, 2, 10, 2, 9, 2, 5]\n",
        "element_to_remove = 2\n",
        "result = remove_element(my_list, element_to_remove)\n",
        "print(\"List after removing all occurrences of\", element_to_remove, \"is:\", result)\n"
      ],
      "metadata": {
        "colab": {
          "base_uri": "https://localhost:8080/"
        },
        "id": "gfOSU2cIv56Z",
        "outputId": "d7cb4737-8d26-4c68-ae8e-9f51dbfb112d"
      },
      "execution_count": 5,
      "outputs": [
        {
          "output_type": "stream",
          "name": "stdout",
          "text": [
            "List after removing all occurrences of 2 is: [1, 10, 9, 5]\n"
          ]
        }
      ]
    },
    {
      "cell_type": "markdown",
      "source": [
        "4. Write a Python program to find the union of two lists.\n",
        "\n",
        "\n"
      ],
      "metadata": {
        "id": "3RwzWyuovINh"
      }
    },
    {
      "cell_type": "code",
      "source": [
        "def union(list1, list2):\n",
        "    # Create an empty list to store the union\n",
        "    union_list = []\n",
        "\n",
        "    # Add elements from the first list to the union list\n",
        "    for item in list1:\n",
        "        if item not in union_list:\n",
        "            union_list.append(item)\n",
        "\n",
        "    # Add elements from the second list to the union list\n",
        "    for item in list2:\n",
        "        if item not in union_list:\n",
        "            union_list.append(item)\n",
        "\n",
        "    return union_list\n",
        "\n",
        "# output\n",
        "list1 = [1, 2, 3, 19, 5]\n",
        "list2 = [3, 4, 11, 6, 7]\n",
        "union = union(list1, list2)\n",
        "print(\"Union of the two lists:\", union)\n"
      ],
      "metadata": {
        "colab": {
          "base_uri": "https://localhost:8080/"
        },
        "id": "4vKNdPLVvyef",
        "outputId": "aab70836-220f-4490-fba9-475d254faef8"
      },
      "execution_count": 8,
      "outputs": [
        {
          "output_type": "stream",
          "name": "stdout",
          "text": [
            "Union of the two lists: [1, 2, 3, 19, 5, 4, 11, 6, 7]\n"
          ]
        }
      ]
    },
    {
      "cell_type": "markdown",
      "source": [
        "\n",
        "5.Given a list of strings, write a Python program to sort the list based on the length of the strings.\n"
      ],
      "metadata": {
        "id": "DhNE86lXvM4P"
      }
    },
    {
      "cell_type": "code",
      "source": [
        "def sort_by_length(strings):\n",
        "    sorted_strings = sorted(strings, key=len)\n",
        "    return sorted_strings\n",
        "\n",
        "# output\n",
        "strings = [\"apple\", \"banana\", \"orange\", \"kiwi\", \"strawberry\"]\n",
        "sorted_strings = sort_by_length(strings)\n",
        "print(\"Sorted list based on length of strings:\", sorted_strings)\n"
      ],
      "metadata": {
        "colab": {
          "base_uri": "https://localhost:8080/"
        },
        "id": "8iI4HY4pv6nl",
        "outputId": "23f9eb7a-236b-4cc6-e1bf-6e75c7820fc1"
      },
      "execution_count": 9,
      "outputs": [
        {
          "output_type": "stream",
          "name": "stdout",
          "text": [
            "Sorted list based on length of strings: ['kiwi', 'apple', 'banana', 'orange', 'strawberry']\n"
          ]
        }
      ]
    },
    {
      "cell_type": "markdown",
      "source": [
        "### Tuples:"
      ],
      "metadata": {
        "id": "Tl8over_v99V"
      }
    },
    {
      "cell_type": "markdown",
      "source": [
        "1.Write a Python program to concatenate two tuples."
      ],
      "metadata": {
        "id": "IfMBtuDpwM83"
      }
    },
    {
      "cell_type": "code",
      "source": [
        "def concatenate_tuples(tuple1, tuple2):\n",
        "    concatenated_tuple = tuple1 + tuple2      # Concatenate the two tuples using +\n",
        "    return concatenated_tuple\n",
        "\n",
        "# Example usage\n",
        "tuple1 = (1, 2, 3)\n",
        "tuple2 = (4, 5, 6)\n",
        "result = concatenate_tuples(tuple1, tuple2)\n",
        "print(\"Concatenated tuple:\", result)\n"
      ],
      "metadata": {
        "colab": {
          "base_uri": "https://localhost:8080/"
        },
        "id": "0iLHXvjawAW0",
        "outputId": "0760e5d5-5ac0-45e5-d82b-bc1a760f8503"
      },
      "execution_count": 10,
      "outputs": [
        {
          "output_type": "stream",
          "name": "stdout",
          "text": [
            "Concatenated tuple: (1, 2, 3, 4, 5, 6)\n"
          ]
        }
      ]
    },
    {
      "cell_type": "markdown",
      "source": [
        "2.Given a tuple of tuples, write a program to flatten it into a single tuple."
      ],
      "metadata": {
        "id": "oatGSy2PwGCH"
      }
    },
    {
      "cell_type": "code",
      "source": [
        "def flatten_tuple(tuple_of_tuples):\n",
        "    flattened_elements = []\n",
        "\n",
        "    # Iterate through each tuple in the input tupe\n",
        "    for inner_tuple in tuple_of_tuples:\n",
        "        # Extend the flattened list with the elements of the inner tuple\n",
        "        flattened_elements.extend(inner_tuple)\n",
        "\n",
        "    # Convert the flattened list to a tuple\n",
        "    flattened_tuple = tuple(flattened_elements)\n",
        "    return flattened_tuple\n",
        "\n",
        "# output\n",
        "tuple_of_tuples = ((1, 2, 3), (4, 5, 6), (7, 8, 9))\n",
        "flattened_tuple = flatten_tuple(tuple_of_tuples)\n",
        "print(\"Flattened tuple:\", flattened_tuple)\n"
      ],
      "metadata": {
        "colab": {
          "base_uri": "https://localhost:8080/"
        },
        "id": "u6n7N7i8wXMm",
        "outputId": "c02a36a7-8418-48e9-87d7-b7b6fe3254a9"
      },
      "execution_count": 11,
      "outputs": [
        {
          "output_type": "stream",
          "name": "stdout",
          "text": [
            "Flattened tuple: (1, 2, 3, 4, 5, 6, 7, 8, 9)\n"
          ]
        }
      ]
    },
    {
      "cell_type": "markdown",
      "source": [
        "3.Write a program to check if all elements in a tuple are the same.\n"
      ],
      "metadata": {
        "id": "QwBwqn25wfGJ"
      }
    },
    {
      "cell_type": "code",
      "source": [
        "def check_same_elements(input_tuple):\n",
        "    first= input_tuple[0]\n",
        "    for element  in input_tuple:\n",
        "       if first != element :\n",
        "        return False\n",
        "    return True\n",
        "# Example tuples\n",
        "tuple1 = (1, 6, 1, 1)\n",
        "tuple2 = (1, 1, 1, 1)\n",
        "\n",
        "result1 = check_same_elements(tuple1)\n",
        "result2 = check_same_elements(tuple2)\n",
        "\n",
        "print(\"All elements in tuple1 are the same:\", result1)\n",
        "print(\"All elements in tuple2 are the same:\", result2)\n"
      ],
      "metadata": {
        "colab": {
          "base_uri": "https://localhost:8080/"
        },
        "id": "CE8_bjyGwjXn",
        "outputId": "d891dfc1-5c55-4775-909b-109b4b1d222b"
      },
      "execution_count": 18,
      "outputs": [
        {
          "output_type": "stream",
          "name": "stdout",
          "text": [
            "All elements in tuple1 are the same: False\n",
            "All elements in tuple2 are the same: True\n"
          ]
        }
      ]
    },
    {
      "cell_type": "markdown",
      "source": [
        "4.Write a Python program to count the occurrences of an element in a tuple."
      ],
      "metadata": {
        "id": "1Ruzzlj-wj55"
      }
    },
    {
      "cell_type": "code",
      "source": [
        "def count_occurrences(input_tuple, element):\n",
        "    occurrences = input_tuple.count(element)\n",
        "    return occurrences\n",
        "\n",
        "# output\n",
        "input_tuple = (1, 2, 3, 4, 1, 2, 1, 3)\n",
        "element_to_count = 1\n",
        "occurrences = count_occurrences(input_tuple, element_to_count)\n",
        "print(\"Occurrences of\", element_to_count, \"in the tuple:\", occurrences)\n"
      ],
      "metadata": {
        "colab": {
          "base_uri": "https://localhost:8080/"
        },
        "id": "s8o_jT3HxGls",
        "outputId": "c8c4b0c4-2f3d-478d-b951-74bac0073c38"
      },
      "execution_count": 19,
      "outputs": [
        {
          "output_type": "stream",
          "name": "stdout",
          "text": [
            "Occurrences of 1 in the tuple: 3\n"
          ]
        }
      ]
    },
    {
      "cell_type": "markdown",
      "source": [
        "5. Given two tuples, write a Python program to find the common elements between them."
      ],
      "metadata": {
        "id": "2kL8YHXZxNHG"
      }
    },
    {
      "cell_type": "code",
      "source": [
        "def find_common_elements(tuple1, tuple2):\n",
        "    # convert tuple to set\n",
        "    set1 = set(tuple1)\n",
        "    set2 = set(tuple2)\n",
        "\n",
        "    # Find the intersection of the two sets\n",
        "    common_elements = set1.intersection(set2)\n",
        "\n",
        "    return common_elements\n",
        "\n",
        "# Example usage\n",
        "tuple1 = (1, 2, 3, 4, 5)\n",
        "tuple2 = (4, 5, 6, 7, 8)\n",
        "common_elements = find_common_elements(tuple1, tuple2)\n",
        "print(\"Common elements between the two tuples:\", common_elements)\n"
      ],
      "metadata": {
        "colab": {
          "base_uri": "https://localhost:8080/"
        },
        "id": "_atohIS3xQ99",
        "outputId": "33c339fd-e802-4cb0-b3f5-d0b5d0c5b08c"
      },
      "execution_count": null,
      "outputs": [
        {
          "output_type": "stream",
          "name": "stdout",
          "text": [
            "Common elements between the two tuples: {4, 5}\n"
          ]
        }
      ]
    },
    {
      "cell_type": "code",
      "source": [],
      "metadata": {
        "id": "WU7aLXt1xWD8"
      },
      "execution_count": null,
      "outputs": []
    }
  ]
}